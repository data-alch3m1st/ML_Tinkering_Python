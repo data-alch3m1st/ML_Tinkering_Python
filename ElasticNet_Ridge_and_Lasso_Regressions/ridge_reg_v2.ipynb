{
 "cells": [
  {
   "cell_type": "code",
   "execution_count": 1,
   "metadata": {},
   "outputs": [],
   "source": [
    "# Import necessary libraries\n",
    "import numpy as np\n",
    "import pandas as pd\n",
    "from sklearn.datasets import load_diabetes\n",
    "from sklearn.model_selection import train_test_split\n",
    "from sklearn.linear_model import Ridge\n",
    "from sklearn.metrics import mean_squared_error, r2_score"
   ]
  },
  {
   "cell_type": "code",
   "execution_count": 2,
   "metadata": {},
   "outputs": [
    {
     "name": "stdout",
     "output_type": "stream",
     "text": [
      "Mean Squared Error (MSE): 3077.41593882723\n",
      "R-squared (R2 Score): 0.41915292635986545\n",
      "Ridge Coefficients: [  45.36737726  -76.66608563  291.33883165  198.99581745   -0.53030959\n",
      "  -28.57704987 -144.51190505  119.26006559  230.22160832  112.14983004]\n"
     ]
    }
   ],
   "source": [
    "# Load Diabetes dataset\n",
    "diabetes = load_diabetes()\n",
    "X = diabetes.data\n",
    "y = diabetes.target\n",
    "\n",
    "# Split the dataset into training and test sets\n",
    "X_train, X_test, y_train, y_test = train_test_split(X, y, test_size=0.2, random_state=42)\n",
    "\n",
    "# Initialize Ridge regression model with a regularization parameter (alpha)\n",
    "ridge_model = Ridge(alpha=1.0)\n",
    "\n",
    "# Fit the model to the training data\n",
    "ridge_model.fit(X_train, y_train)\n",
    "\n",
    "# Predict on the test data\n",
    "y_pred = ridge_model.predict(X_test)\n",
    "\n",
    "# Evaluate the model\n",
    "mse = mean_squared_error(y_test, y_pred)\n",
    "r2 = r2_score(y_test, y_pred)\n",
    "\n",
    "print(\"Mean Squared Error (MSE):\", mse)\n",
    "print(\"R-squared (R2 Score):\", r2)\n",
    "\n",
    "# Display Ridge Coefficients\n",
    "print(\"Ridge Coefficients:\", ridge_model.coef_)"
   ]
  },
  {
   "cell_type": "code",
   "execution_count": 3,
   "metadata": {},
   "outputs": [
    {
     "name": "stdout",
     "output_type": "stream",
     "text": [
      "OLS Mean Squared Error (MSE): 2900.193628493482\n",
      "OLS R-squared (R2 Score): 0.45260276297191937\n"
     ]
    }
   ],
   "source": [
    "from sklearn.linear_model import LinearRegression\n",
    "\n",
    "# Fit Ordinary Least Squares Regression\n",
    "ols_model = LinearRegression()\n",
    "ols_model.fit(X_train, y_train)\n",
    "ols_pred = ols_model.predict(X_test)\n",
    "\n",
    "# Evaluate OLS Model\n",
    "ols_mse = mean_squared_error(y_test, ols_pred)\n",
    "ols_r2 = r2_score(y_test, ols_pred)\n",
    "\n",
    "print(\"OLS Mean Squared Error (MSE):\", ols_mse)\n",
    "print(\"OLS R-squared (R2 Score):\", ols_r2)"
   ]
  },
  {
   "cell_type": "code",
   "execution_count": 4,
   "metadata": {},
   "outputs": [
    {
     "name": "stdout",
     "output_type": "stream",
     "text": [
      "Best alpha: 0.06579332246575682\n",
      "Best cross-validated MSE: 3121.8854525321613\n"
     ]
    }
   ],
   "source": [
    "from sklearn.model_selection import GridSearchCV\n",
    "\n",
    "# Define a range of alpha values\n",
    "alpha_values = np.logspace(-3, 3, 100)\n",
    "\n",
    "# Ridge regression with cross-validation\n",
    "ridge_cv = GridSearchCV(Ridge()\n",
    "                        , param_grid={'alpha': alpha_values}\n",
    "                        , cv=5\n",
    "                        , scoring='neg_mean_squared_error')\n",
    "\n",
    "ridge_cv.fit(X_train, y_train)\n",
    "\n",
    "# Best alpha and corresponding performance\n",
    "print(\"Best alpha:\", ridge_cv.best_params_['alpha'])\n",
    "print(\"Best cross-validated MSE:\", -ridge_cv.best_score_)"
   ]
  },
  {
   "cell_type": "code",
   "execution_count": 6,
   "metadata": {},
   "outputs": [
    {
     "name": "stdout",
     "output_type": "stream",
     "text": [
      "Mean Squared Error (MSE): 2862.344850385715\n",
      "R-squared (R2 Score): 0.459746533083518\n",
      "Ridge Coefficients: [  42.46120177 -216.45796092  521.19544069  325.4427785  -140.81738217\n",
      "  -73.20637981 -181.70648107  157.95961835  413.88423996   72.5382989 ]\n"
     ]
    }
   ],
   "source": [
    "# Initialize Ridge regression model with a regularization parameter (alpha)\n",
    "ridge_model = Ridge(alpha=0.06579332246575682)\n",
    "\n",
    "# Fit the model to the training data\n",
    "ridge_model.fit(X_train, y_train)\n",
    "\n",
    "# Predict on the test data\n",
    "y_pred = ridge_model.predict(X_test)\n",
    "\n",
    "# Evaluate the model\n",
    "mse = mean_squared_error(y_test, y_pred)\n",
    "r2 = r2_score(y_test, y_pred)\n",
    "\n",
    "print(\"Mean Squared Error (MSE):\", mse)\n",
    "print(\"R-squared (R2 Score):\", r2)\n",
    "\n",
    "# Display Ridge Coefficients\n",
    "print(\"Ridge Coefficients:\", ridge_model.coef_)"
   ]
  },
  {
   "cell_type": "code",
   "execution_count": 7,
   "metadata": {},
   "outputs": [
    {
     "data": {
      "text/plain": [
       "array([1.00000000e-03, 1.14975700e-03, 1.32194115e-03, 1.51991108e-03,\n",
       "       1.74752840e-03, 2.00923300e-03, 2.31012970e-03, 2.65608778e-03,\n",
       "       3.05385551e-03, 3.51119173e-03, 4.03701726e-03, 4.64158883e-03,\n",
       "       5.33669923e-03, 6.13590727e-03, 7.05480231e-03, 8.11130831e-03,\n",
       "       9.32603347e-03, 1.07226722e-02, 1.23284674e-02, 1.41747416e-02,\n",
       "       1.62975083e-02, 1.87381742e-02, 2.15443469e-02, 2.47707636e-02,\n",
       "       2.84803587e-02, 3.27454916e-02, 3.76493581e-02, 4.32876128e-02,\n",
       "       4.97702356e-02, 5.72236766e-02, 6.57933225e-02, 7.56463328e-02,\n",
       "       8.69749003e-02, 1.00000000e-01, 1.14975700e-01, 1.32194115e-01,\n",
       "       1.51991108e-01, 1.74752840e-01, 2.00923300e-01, 2.31012970e-01,\n",
       "       2.65608778e-01, 3.05385551e-01, 3.51119173e-01, 4.03701726e-01,\n",
       "       4.64158883e-01, 5.33669923e-01, 6.13590727e-01, 7.05480231e-01,\n",
       "       8.11130831e-01, 9.32603347e-01, 1.07226722e+00, 1.23284674e+00,\n",
       "       1.41747416e+00, 1.62975083e+00, 1.87381742e+00, 2.15443469e+00,\n",
       "       2.47707636e+00, 2.84803587e+00, 3.27454916e+00, 3.76493581e+00,\n",
       "       4.32876128e+00, 4.97702356e+00, 5.72236766e+00, 6.57933225e+00,\n",
       "       7.56463328e+00, 8.69749003e+00, 1.00000000e+01, 1.14975700e+01,\n",
       "       1.32194115e+01, 1.51991108e+01, 1.74752840e+01, 2.00923300e+01,\n",
       "       2.31012970e+01, 2.65608778e+01, 3.05385551e+01, 3.51119173e+01,\n",
       "       4.03701726e+01, 4.64158883e+01, 5.33669923e+01, 6.13590727e+01,\n",
       "       7.05480231e+01, 8.11130831e+01, 9.32603347e+01, 1.07226722e+02,\n",
       "       1.23284674e+02, 1.41747416e+02, 1.62975083e+02, 1.87381742e+02,\n",
       "       2.15443469e+02, 2.47707636e+02, 2.84803587e+02, 3.27454916e+02,\n",
       "       3.76493581e+02, 4.32876128e+02, 4.97702356e+02, 5.72236766e+02,\n",
       "       6.57933225e+02, 7.56463328e+02, 8.69749003e+02, 1.00000000e+03])"
      ]
     },
     "execution_count": 7,
     "metadata": {},
     "output_type": "execute_result"
    }
   ],
   "source": [
    "np.logspace(-3, 3, 100)"
   ]
  },
  {
   "cell_type": "code",
   "execution_count": null,
   "metadata": {},
   "outputs": [],
   "source": []
  },
  {
   "cell_type": "code",
   "execution_count": null,
   "metadata": {},
   "outputs": [],
   "source": []
  },
  {
   "cell_type": "code",
   "execution_count": null,
   "metadata": {},
   "outputs": [],
   "source": []
  }
 ],
 "metadata": {
  "kernelspec": {
   "display_name": "Python 3 (ipykernel)",
   "language": "python",
   "name": "python3"
  },
  "language_info": {
   "codemirror_mode": {
    "name": "ipython",
    "version": 3
   },
   "file_extension": ".py",
   "mimetype": "text/x-python",
   "name": "python",
   "nbconvert_exporter": "python",
   "pygments_lexer": "ipython3",
   "version": "3.11.0"
  }
 },
 "nbformat": 4,
 "nbformat_minor": 4
}
