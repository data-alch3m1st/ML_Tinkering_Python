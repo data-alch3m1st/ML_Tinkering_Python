{
 "cells": [
  {
   "cell_type": "markdown",
   "id": "5012be90",
   "metadata": {},
   "source": [
    "### A most curious numpy hack ##\n",
    "\n",
    "For the oddly specific automated selection of C-Values (for ML algos) with perfect 'decade' log10 values with $n$ values in between;"
   ]
  },
  {
   "cell_type": "markdown",
   "id": "29d3fbbe",
   "metadata": {},
   "source": [
    "Lets say `np.logspace(a, b, q)` = perfect log values; (Using $q$ rather than $c$ to avoid confusion with $C$ which spawned this experiment!\n",
    "\n",
    "***Example***\n",
    "\n",
    "$[Input]:$\n",
    "`np.logspace(-3, 2, 6).tolist()`\n",
    "\n",
    "$[Output]:$\n",
    "`[0.001, 0.01, 0.1, 1.0, 10.0, 100.0]`\n",
    "\n",
    "\n",
    "$q = ((abs(a) + abs(b)+1))$\n",
    "\n",
    "To get the above perfect log10 values with another value spaced in between each log10 (aka 'one in between'):\n",
    "\n",
    "$q = ((abs(a) + abs(b)+1)) + (abs(a) + abs(b))$\n",
    "\n",
    "To get the above perfect log10 values with two values spaced in between each log10 (aka 'two in between'):\n",
    "\n",
    "`q = ((abs(a) + abs(b)+1)) + 2*(abs(a) + abs(b))`\n",
    "\n",
    "Likewise, for each additional increment of 'in-betweens' We continue the above pattern.\n",
    "\n",
    "Shown here with $q=11$\n",
    "\n",
    "$[Input]:$\n",
    "`np.logspace(-3, 2, 11).tolist()`\n",
    "\n",
    "$[Output]:$\n",
    "`[0.001, 0.0031622776601683794, 0.01, 0.03162277660168379, 0.1, 0.31622776601683794, 1.0, 3.1622776601683795, 10.0, 31.622776601683793, 100.0]`"
   ]
  },
  {
   "cell_type": "markdown",
   "id": "b21ee09e",
   "metadata": {},
   "source": [
    "To generate all integer powers of 10 between two exponents using `np.logspace(a, b, num)`, set `num = abs(a - b) + 1`.\n",
    "\n",
    "\n",
    "To insert *n* equally log-spaced values between each decade, use `num = (abs(a - b) + 1) * (n + 1)`.\n"
   ]
  },
  {
   "cell_type": "code",
   "execution_count": 15,
   "id": "5916a24e",
   "metadata": {},
   "outputs": [
    {
     "data": {
      "text/plain": [
       "5"
      ]
     },
     "execution_count": 15,
     "metadata": {},
     "output_type": "execute_result"
    },
    {
     "data": {
      "text/plain": [
       "9"
      ]
     },
     "execution_count": 15,
     "metadata": {},
     "output_type": "execute_result"
    },
    {
     "data": {
      "text/plain": [
       "13"
      ]
     },
     "execution_count": 15,
     "metadata": {},
     "output_type": "execute_result"
    },
    {
     "data": {
      "text/plain": [
       "6"
      ]
     },
     "execution_count": 15,
     "metadata": {},
     "output_type": "execute_result"
    },
    {
     "data": {
      "text/plain": [
       "11"
      ]
     },
     "execution_count": 15,
     "metadata": {},
     "output_type": "execute_result"
    },
    {
     "data": {
      "text/plain": [
       "16"
      ]
     },
     "execution_count": 15,
     "metadata": {},
     "output_type": "execute_result"
    }
   ],
   "source": [
    "# Examples: \n",
    "\n",
    "# For np.logspace(-3, 1, 5) = [0.001, 0.01, 0.1, 1.0, 10.0]\n",
    "((abs(-3) + abs(1)+1))\n",
    "((abs(-3) + abs(1)+1)) + (abs(-3) + abs(1))\n",
    "((abs(-3) + abs(1)+1)) + 2*(abs(-3) + abs(1))\n",
    "\n",
    "# For np.logspace(-3, 2, 5) = 0.001, 0.01, 0.1, 1.0, 10.0, 100.0]\n",
    "((abs(-3) + abs(2)+1))\n",
    "((abs(-3) + abs(2)+1)) + (abs(-3) + abs(2))\n",
    "((abs(-3) + abs(2)+1)) + 2*(abs(-3) + abs(2))"
   ]
  },
  {
   "cell_type": "code",
   "execution_count": 12,
   "id": "9b6cd352",
   "metadata": {},
   "outputs": [],
   "source": [
    "import numpy as np\n",
    "\n",
    "import warnings \n",
    "warnings.simplefilter('ignore')\n",
    "\n",
    "from IPython.core.interactiveshell import InteractiveShell\n",
    "InteractiveShell.ast_node_interactivity = 'all'"
   ]
  },
  {
   "cell_type": "code",
   "execution_count": 16,
   "id": "e33ee7f8",
   "metadata": {},
   "outputs": [
    {
     "data": {
      "text/plain": [
       "[0.001, 0.01, 0.1, 1.0, 10.0, 100.0]"
      ]
     },
     "execution_count": 16,
     "metadata": {},
     "output_type": "execute_result"
    }
   ],
   "source": [
    "# Perfect log10 decade:\n",
    "# q = ((abs(a) + abs(b)+1))\n",
    "# q = 6\n",
    "np.logspace(-3, 2, 6).tolist()"
   ]
  },
  {
   "cell_type": "code",
   "execution_count": 4,
   "id": "ff7c74e7",
   "metadata": {},
   "outputs": [
    {
     "data": {
      "text/plain": [
       "[0.001,\n",
       " 0.0031622776601683794,\n",
       " 0.01,\n",
       " 0.03162277660168379,\n",
       " 0.1,\n",
       " 0.31622776601683794,\n",
       " 1.0,\n",
       " 3.1622776601683795,\n",
       " 10.0,\n",
       " 31.622776601683793,\n",
       " 100.0]"
      ]
     },
     "execution_count": 4,
     "metadata": {},
     "output_type": "execute_result"
    }
   ],
   "source": [
    "# log10 decade with one 'in-between'\n",
    "np.logspace(-3, 2, 11).tolist()"
   ]
  },
  {
   "cell_type": "code",
   "execution_count": 5,
   "id": "d752ce18",
   "metadata": {},
   "outputs": [
    {
     "data": {
      "text/plain": [
       "[0.001,\n",
       " 0.0021544346900318843,\n",
       " 0.004641588833612777,\n",
       " 0.01,\n",
       " 0.021544346900318832,\n",
       " 0.046415888336127774,\n",
       " 0.1,\n",
       " 0.21544346900318823,\n",
       " 0.46415888336127775,\n",
       " 1.0,\n",
       " 2.154434690031882,\n",
       " 4.6415888336127775,\n",
       " 10.0,\n",
       " 21.54434690031882,\n",
       " 46.41588833612773,\n",
       " 100.0]"
      ]
     },
     "execution_count": 5,
     "metadata": {},
     "output_type": "execute_result"
    }
   ],
   "source": [
    "# log10 decade with two 'in-between(s)'\n",
    "np.logspace(-3, 2, 16).tolist()"
   ]
  },
  {
   "cell_type": "code",
   "execution_count": 6,
   "id": "23a2d76a",
   "metadata": {},
   "outputs": [
    {
     "data": {
      "text/plain": [
       "[0.001,\n",
       " 0.0017782794100389228,\n",
       " 0.0031622776601683794,\n",
       " 0.005623413251903491,\n",
       " 0.01,\n",
       " 0.01778279410038923,\n",
       " 0.03162277660168379,\n",
       " 0.05623413251903491,\n",
       " 0.1,\n",
       " 0.1778279410038923,\n",
       " 0.31622776601683794,\n",
       " 0.5623413251903491,\n",
       " 1.0,\n",
       " 1.7782794100389228,\n",
       " 3.1622776601683795,\n",
       " 5.623413251903491,\n",
       " 10.0,\n",
       " 17.78279410038923,\n",
       " 31.622776601683793,\n",
       " 56.23413251903491,\n",
       " 100.0]"
      ]
     },
     "execution_count": 6,
     "metadata": {},
     "output_type": "execute_result"
    }
   ],
   "source": [
    "# log10 decade with three 'in-between(s)'\n",
    "np.logspace(-3, 2, 21).tolist()"
   ]
  },
  {
   "cell_type": "code",
   "execution_count": 14,
   "id": "3300cfdc",
   "metadata": {},
   "outputs": [
    {
     "data": {
      "text/plain": [
       "[0.0001, 0.001, 0.01, 0.1, 1.0, 10.0, 100.0]"
      ]
     },
     "execution_count": 14,
     "metadata": {},
     "output_type": "execute_result"
    },
    {
     "data": {
      "text/plain": [
       "[0.0001,\n",
       " 0.00031622776601683794,\n",
       " 0.001,\n",
       " 0.0031622776601683794,\n",
       " 0.01,\n",
       " 0.03162277660168379,\n",
       " 0.1,\n",
       " 0.31622776601683794,\n",
       " 1.0,\n",
       " 3.1622776601683795,\n",
       " 10.0,\n",
       " 31.622776601683793,\n",
       " 100.0]"
      ]
     },
     "execution_count": 14,
     "metadata": {},
     "output_type": "execute_result"
    },
    {
     "data": {
      "text/plain": [
       "[0.0001,\n",
       " 0.00021544346900318845,\n",
       " 0.00046415888336127773,\n",
       " 0.001,\n",
       " 0.002154434690031882,\n",
       " 0.004641588833612777,\n",
       " 0.01,\n",
       " 0.021544346900318822,\n",
       " 0.046415888336127774,\n",
       " 0.1,\n",
       " 0.21544346900318823,\n",
       " 0.46415888336127775,\n",
       " 1.0,\n",
       " 2.154434690031882,\n",
       " 4.641588833612772,\n",
       " 10.0,\n",
       " 21.54434690031882,\n",
       " 46.41588833612773,\n",
       " 100.0]"
      ]
     },
     "execution_count": 14,
     "metadata": {},
     "output_type": "execute_result"
    }
   ],
   "source": [
    "# np.logspace(a, b, q).tolist()\n",
    "\n",
    "# Perfect decade\\ log10 nums:\n",
    "# q = abs(a) + abs(b) +1\n",
    "np.logspace(-4, 2, 7).tolist()\n",
    "\n",
    "# With one 'in-between':\n",
    "# q1 = 2(abs(a)) + 2(abs(b)) +1\n",
    "np.logspace(-4, 2, 13).tolist()\n",
    "\n",
    "# With two 'in-betweens':\n",
    "# q1 = 3(abs(a)) + 3(abs(b)) +1\n",
    "np.logspace(-4, 2, 19).tolist()"
   ]
  },
  {
   "cell_type": "code",
   "execution_count": 10,
   "id": "2a95e5e9",
   "metadata": {},
   "outputs": [
    {
     "data": {
      "text/plain": [
       "19"
      ]
     },
     "execution_count": 10,
     "metadata": {},
     "output_type": "execute_result"
    }
   ],
   "source": [
    "(3*abs(-4)) + (3*abs(2)) +1"
   ]
  }
 ],
 "metadata": {
  "kernelspec": {
   "display_name": "Python 3 (ipykernel)",
   "language": "python",
   "name": "python3"
  },
  "language_info": {
   "codemirror_mode": {
    "name": "ipython",
    "version": 3
   },
   "file_extension": ".py",
   "mimetype": "text/x-python",
   "name": "python",
   "nbconvert_exporter": "python",
   "pygments_lexer": "ipython3",
   "version": "3.11.5"
  }
 },
 "nbformat": 4,
 "nbformat_minor": 5
}
