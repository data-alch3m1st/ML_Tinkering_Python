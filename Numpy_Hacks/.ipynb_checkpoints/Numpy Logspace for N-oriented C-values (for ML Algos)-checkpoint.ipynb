{
 "cells": [
  {
   "cell_type": "markdown",
   "id": "8d0460b2",
   "metadata": {},
   "source": [
    "### A most curious numpy hack ##\n",
    "\n",
    "For the oddly specific automated selection of C-Values (for ML algos) with perfect 'decade' log10 values with $n$ values in between;"
   ]
  },
  {
   "cell_type": "markdown",
   "id": "b63aff71",
   "metadata": {},
   "source": [
    "Lets say `np.logspace(a, b, q)` = perfect log values; (Using $q$ rather than $c$ to avoid confusion with $C$ which spawned this experiment!\n",
    "\n",
    "***Example***\n",
    "\n",
    "$[Input]:$\n",
    "`np.logspace(-3, 2, 6).tolist()`\n",
    "\n",
    "$[Output]:$\n",
    "`[0.001, 0.01, 0.1, 1.0, 10.0, 100.0]`\n",
    "\n",
    "\n",
    "$q = ((abs(a) + abs(b)+1))$\n",
    "\n",
    "To get the above perfect log10 values with another value spaced in between each log10 (aka 'one in between'):\n",
    "\n",
    "$c = ((abs(a) + abs(b)+1)) + (abs(a) + abs(b))$\n",
    "\n",
    "To get the above perfect log10 values with two values spaced in between each log10 (aka 'two in between'):\n",
    "\n",
    "`c = ((abs(a) + abs(b)+1)) + 2*(abs(a) + abs(b))`\n",
    "\n",
    "Likewise, for each additional increment of 'in-betweens' We continue the above pattern.\n",
    "\n"
   ]
  },
  {
   "cell_type": "markdown",
   "id": "2e60f661",
   "metadata": {},
   "source": [
    "To generate all integer powers of 10 between two exponents using `np.logspace(a, b, num)`, set `num = abs(a - b) + 1`.\n",
    "\n",
    "\n",
    "To insert *n* equally log-spaced values between each decade, use `num = (abs(a - b) + 1) * (n + 1)`.\n"
   ]
  },
  {
   "cell_type": "code",
   "execution_count": null,
   "id": "2c37fd66",
   "metadata": {},
   "outputs": [],
   "source": [
    "# Examples: \n",
    "\n",
    "# For np.logspace(-3, 1, 5) = [0.001, 0.01, 0.1, 1.0, 10.0]\n",
    "((abs(-3) + abs(1)+1))\n",
    "((abs(-3) + abs(1)+1)) + (abs(-3) + abs(1))\n",
    "((abs(-3) + abs(1)+1)) + 2*(abs(-3) + abs(1))\n",
    "\n",
    "# For np.logspace(-3, 2, 5) = 0.001, 0.01, 0.1, 1.0, 10.0, 100.0]\n",
    "((abs(-3) + abs(2)+1))\n",
    "((abs(-3) + abs(2)+1)) + (abs(-3) + abs(2))\n",
    "((abs(-3) + abs(2)+1)) + 2*(abs(-3) + abs(2))"
   ]
  },
  {
   "cell_type": "code",
   "execution_count": 1,
   "id": "8a73d0ab",
   "metadata": {},
   "outputs": [],
   "source": [
    "import numpy as np"
   ]
  },
  {
   "cell_type": "code",
   "execution_count": 3,
   "id": "dd5534bd",
   "metadata": {},
   "outputs": [
    {
     "data": {
      "text/plain": [
       "[0.001, 0.01, 0.1, 1.0, 10.0, 100.0]"
      ]
     },
     "execution_count": 3,
     "metadata": {},
     "output_type": "execute_result"
    }
   ],
   "source": [
    "# Perfect log10 decade:\n",
    "np.logspace(-3, 2, 6).tolist()"
   ]
  },
  {
   "cell_type": "code",
   "execution_count": 4,
   "id": "fc49fd06",
   "metadata": {},
   "outputs": [
    {
     "data": {
      "text/plain": [
       "[0.001,\n",
       " 0.0031622776601683794,\n",
       " 0.01,\n",
       " 0.03162277660168379,\n",
       " 0.1,\n",
       " 0.31622776601683794,\n",
       " 1.0,\n",
       " 3.1622776601683795,\n",
       " 10.0,\n",
       " 31.622776601683793,\n",
       " 100.0]"
      ]
     },
     "execution_count": 4,
     "metadata": {},
     "output_type": "execute_result"
    }
   ],
   "source": [
    "# log10 decade with one 'in-between'\n",
    "np.logspace(-3, 2, 11).tolist()"
   ]
  },
  {
   "cell_type": "code",
   "execution_count": 5,
   "id": "4a0304e8",
   "metadata": {},
   "outputs": [
    {
     "data": {
      "text/plain": [
       "[0.001,\n",
       " 0.0021544346900318843,\n",
       " 0.004641588833612777,\n",
       " 0.01,\n",
       " 0.021544346900318832,\n",
       " 0.046415888336127774,\n",
       " 0.1,\n",
       " 0.21544346900318823,\n",
       " 0.46415888336127775,\n",
       " 1.0,\n",
       " 2.154434690031882,\n",
       " 4.6415888336127775,\n",
       " 10.0,\n",
       " 21.54434690031882,\n",
       " 46.41588833612773,\n",
       " 100.0]"
      ]
     },
     "execution_count": 5,
     "metadata": {},
     "output_type": "execute_result"
    }
   ],
   "source": [
    "# log10 decade with two 'in-between(s)'\n",
    "np.logspace(-3, 2, 16).tolist()"
   ]
  },
  {
   "cell_type": "code",
   "execution_count": 6,
   "id": "60765515",
   "metadata": {},
   "outputs": [
    {
     "data": {
      "text/plain": [
       "[0.001,\n",
       " 0.0017782794100389228,\n",
       " 0.0031622776601683794,\n",
       " 0.005623413251903491,\n",
       " 0.01,\n",
       " 0.01778279410038923,\n",
       " 0.03162277660168379,\n",
       " 0.05623413251903491,\n",
       " 0.1,\n",
       " 0.1778279410038923,\n",
       " 0.31622776601683794,\n",
       " 0.5623413251903491,\n",
       " 1.0,\n",
       " 1.7782794100389228,\n",
       " 3.1622776601683795,\n",
       " 5.623413251903491,\n",
       " 10.0,\n",
       " 17.78279410038923,\n",
       " 31.622776601683793,\n",
       " 56.23413251903491,\n",
       " 100.0]"
      ]
     },
     "execution_count": 6,
     "metadata": {},
     "output_type": "execute_result"
    }
   ],
   "source": [
    "# log10 decade with three 'in-between(s)'\n",
    "np.logspace(-3, 2, 21).tolist()"
   ]
  },
  {
   "cell_type": "code",
   "execution_count": null,
   "id": "b017a42f",
   "metadata": {},
   "outputs": [],
   "source": []
  }
 ],
 "metadata": {
  "kernelspec": {
   "display_name": "Python 3 (ipykernel)",
   "language": "python",
   "name": "python3"
  },
  "language_info": {
   "codemirror_mode": {
    "name": "ipython",
    "version": 3
   },
   "file_extension": ".py",
   "mimetype": "text/x-python",
   "name": "python",
   "nbconvert_exporter": "python",
   "pygments_lexer": "ipython3",
   "version": "3.11.5"
  }
 },
 "nbformat": 4,
 "nbformat_minor": 5
}
